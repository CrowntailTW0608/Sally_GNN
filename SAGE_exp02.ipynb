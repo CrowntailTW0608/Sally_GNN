{
 "cells": [
  {
   "cell_type": "code",
   "execution_count": 1,
   "id": "327344d3-dde4-4160-b05a-1b85d8c8aac1",
   "metadata": {
    "tags": []
   },
   "outputs": [
    {
     "name": "stderr",
     "output_type": "stream",
     "text": [
      "Using backend: pytorch\n"
     ]
    }
   ],
   "source": [
    "import pandas  as pd\n",
    "import os\n",
    "import numpy as np\n",
    "import datetime \n",
    "import glob\n",
    "pd.set_option('display.max_rows', 110)\n",
    "\n",
    "\n",
    "import dgl\n",
    "from dgl.data import DGLDataset\n",
    "import torch\n",
    "import os\n",
    "import pandas as pd\n",
    "import torch\n",
    "from torch_geometric.utils import dense_to_sparse, to_dense_adj\n",
    "from scipy.spatial import distance\n",
    "# Contruct a two-layer GNN model\n",
    "import dgl.nn as dglnn\n",
    "import torch.nn as nn\n",
    "import torch.nn.functional as F\n",
    "\n",
    "import matplotlib.pyplot as plt\n",
    "\n"
   ]
  },
  {
   "cell_type": "code",
   "execution_count": 2,
   "id": "8297b83c-e483-4bc2-9d5d-6ed7fa49682f",
   "metadata": {
    "tags": []
   },
   "outputs": [],
   "source": [
    "# download dataset from : https://data.epa.gov.tw/dataset/aqx_p_488\n",
    "\n",
    "# df = pd.DataFrame()\n",
    "# for r,ds,fs in os.walk(r'C:\\Users\\crown\\OneDrive\\桌面\\新增資料夾\\2021\\aqx_p_488_2021-07'):\n",
    "#     fs = [f for f in fs if f.endswith('.csv')]\n",
    "#     for f in fs:\n",
    "#         p = os.path.join(r,f)\n",
    "#         print(p)\n",
    "        \n",
    "#         df_tmp = pd.read_csv(p)\n",
    "        \n",
    "#         df = df.append(df_tmp)\n",
    "        \n",
    "#         del df_tmp\n",
    "        \n",
    "# df.to_csv(r'./data/df_2021_07.csv',index=False,encoding='ansi')   "
   ]
  },
  {
   "cell_type": "code",
   "execution_count": 3,
   "id": "80aa6e45-1604-41a6-85d0-0981add09ea2",
   "metadata": {},
   "outputs": [],
   "source": [
    "class PM25Dataset(DGLDataset):\n",
    "    def __init__(self):\n",
    "        super().__init__(name='PM25')\n",
    "\n",
    "    def process(self):\n",
    "        \n",
    "        df = self.gen_df()\n",
    "        self.nodes_data = df\n",
    "        col_features=[ 'SO2', 'CO', 'O3', 'O3_8hr', 'PM10', 'NO2', 'NOx', 'NO', 'WindSpeed', 'WindDirec', 'CO_8hr', 'PM2.5_AVG', 'PM10_AVG', 'SO2_AVG']\n",
    "        node_features = torch.from_numpy(df[col_features].to_numpy())\n",
    "        node_features = (node_features-node_features.mean(axis=(0,1)))/node_features.std(axis=(0,1))\n",
    "        node_features = torch.tensor(node_features, dtype=torch.float32)\n",
    "        node_labels = torch.from_numpy(df[['PM2.5']].to_numpy())\n",
    "        node_labels = torch.tensor(node_labels, dtype=torch.float32)\n",
    "        \n",
    "        edge_index, dist = self.gen_edge()\n",
    "        \n",
    "        edge_features = torch.from_numpy(dist)\n",
    "        edges_src = torch.from_numpy(edge_index[0])\n",
    "        edges_dst = torch.from_numpy(edge_index[1])\n",
    "\n",
    "        self.graph = dgl.graph((edges_src, edges_dst), num_nodes=self.nodes_data.shape[0])\n",
    "        self.graph.ndata['feat'] = node_features\n",
    "        self.graph.ndata['label'] = node_labels\n",
    "        self.graph.edata['weight'] = edge_features\n",
    "\n",
    "        # If your dataset is a node classification dataset, you will need to assign\n",
    "        # masks indicating whether a node belongs to training, validation, and test set.\n",
    "        n_nodes = self.nodes_data.shape[0]\n",
    "        n_train = int(n_nodes * 0.6)\n",
    "        n_val = int(n_nodes * 0.2)\n",
    "        train_mask = torch.zeros(n_nodes, dtype=torch.bool)\n",
    "        val_mask = torch.zeros(n_nodes, dtype=torch.bool)\n",
    "        test_mask = torch.zeros(n_nodes, dtype=torch.bool)\n",
    "        train_mask[:n_train] = True\n",
    "        val_mask[n_train:n_train + n_val] = True\n",
    "        test_mask[n_train + n_val:] = True\n",
    "        self.graph.ndata['train_mask'] = train_mask\n",
    "        self.graph.ndata['val_mask'] = val_mask\n",
    "        self.graph.ndata['test_mask'] = test_mask\n",
    "\n",
    "    def gen_df(self):\n",
    "        df = pd.read_csv(r'./data/df_2021_07.csv',encoding='ansi')\n",
    "        df = df[['SO2', 'CO', 'O3', 'O3_8hr', 'PM10', 'NO2', 'NOx', 'NO', 'WindSpeed', 'WindDirec', 'CO_8hr', 'PM2.5_AVG', 'PM10_AVG', 'SO2_AVG','PM2.5','Longitude','Latitude']]\n",
    "        \n",
    "        df = df.replace({'-':0}).astype(float).dropna()\n",
    "        df[['Longitude','Latitude']] = df[['Longitude','Latitude']].apply(lambda x:round(x,5))\n",
    "\n",
    "        from sklearn.utils import shuffle\n",
    "        df = shuffle(df)\n",
    "        return df\n",
    "    \n",
    "    def gen_edge(self):\n",
    "        \n",
    "        node_num = self.nodes_data.shape[0]\n",
    "        coords = []\n",
    "        for i,r in self.nodes_data.iterrows():\n",
    "            coords.append([r['Longitude'], r['Latitude']])\n",
    "\n",
    "        dist = distance.cdist(coords, coords, 'euclidean')\n",
    "        adj = np.zeros((node_num, node_num), dtype=np.uint8)\n",
    "        adj[dist <= 0.4] = 1\n",
    "        assert adj.shape == dist.shape\n",
    "        dist = dist * adj #\n",
    "        edge_index, dist = dense_to_sparse(torch.tensor(dist)) # convert to spare tensor\n",
    "        edge_index, dist = edge_index.numpy(), dist.numpy()\n",
    "        dist = np.log1p(1/dist)\n",
    "        return edge_index, dist\n",
    "    \n",
    "    def __getitem__(self, i):\n",
    "        return self.graph\n",
    "\n",
    "    def __len__(self):\n",
    "        return 1"
   ]
  },
  {
   "cell_type": "code",
   "execution_count": 4,
   "id": "ef76e265-81f7-41c1-bb64-24ddcc1daecf",
   "metadata": {},
   "outputs": [
    {
     "name": "stderr",
     "output_type": "stream",
     "text": [
      "C:\\Users\\crown\\.conda\\envs\\yp37_pytorch170_GNN\\lib\\site-packages\\ipykernel_launcher.py:12: UserWarning: To copy construct from a tensor, it is recommended to use sourceTensor.clone().detach() or sourceTensor.clone().detach().requires_grad_(True), rather than torch.tensor(sourceTensor).\n",
      "  if sys.path[0] == '':\n",
      "C:\\Users\\crown\\.conda\\envs\\yp37_pytorch170_GNN\\lib\\site-packages\\ipykernel_launcher.py:14: UserWarning: To copy construct from a tensor, it is recommended to use sourceTensor.clone().detach() or sourceTensor.clone().detach().requires_grad_(True), rather than torch.tensor(sourceTensor).\n",
      "  \n"
     ]
    },
    {
     "name": "stdout",
     "output_type": "stream",
     "text": [
      "Graph(num_nodes=28607, num_edges=138648656,\n",
      "      ndata_schemes={'feat': Scheme(shape=(14,), dtype=torch.float32), 'label': Scheme(shape=(1,), dtype=torch.float32), 'train_mask': Scheme(shape=(), dtype=torch.bool), 'val_mask': Scheme(shape=(), dtype=torch.bool), 'test_mask': Scheme(shape=(), dtype=torch.bool)}\n",
      "      edata_schemes={'weight': Scheme(shape=(), dtype=torch.float64)})\n"
     ]
    }
   ],
   "source": [
    "dataset = PM25Dataset()\n",
    "graph = dataset[0]\n",
    "\n",
    "print(graph)"
   ]
  },
  {
   "cell_type": "code",
   "execution_count": 5,
   "id": "5a9a2d8a-a0af-4b7d-83d2-17f6382cde3e",
   "metadata": {},
   "outputs": [],
   "source": [
    "class SAGE(nn.Module):\n",
    "    def __init__(self, in_feats, hid_feats, out_feats):\n",
    "        super().__init__()\n",
    "        self.conv1 = dglnn.SAGEConv( in_feats=in_feats, out_feats=out_feats, aggregator_type='lstm')\n",
    "        # self.conv2 = dglnn.SAGEConv( in_feats=hid_feats, out_feats=hid_feats, aggregator_type='mean')\n",
    "        # self.conv3 = dglnn.SAGEConv( in_feats=hid_feats, out_feats=out_feats, aggregator_type='mean')\n",
    "        self.linear1 = nn.Linear(out_feats,1)\n",
    "    def forward(self, graph, inputs):\n",
    "        # inputs are features of nodes\n",
    "        h = self.conv1(graph, inputs)\n",
    "        h = F.relu(h)\n",
    "        h = self.conv2(graph, h)\n",
    "        h = F.relu(h)\n",
    "        h = self.conv3(graph, h)\n",
    "        h = self.linear1(h)\n",
    "        return h"
   ]
  },
  {
   "cell_type": "code",
   "execution_count": 6,
   "id": "e181f965-cb63-42d2-939d-cf90ceaac73d",
   "metadata": {},
   "outputs": [],
   "source": [
    "node_features = graph.ndata['feat']\n",
    "node_labels = graph.ndata['label']\n",
    "train_mask = graph.ndata['train_mask']\n",
    "valid_mask = graph.ndata['val_mask']\n",
    "test_mask = graph.ndata['test_mask']\n",
    "n_features = node_features.shape[1]"
   ]
  },
  {
   "cell_type": "code",
   "execution_count": 7,
   "id": "6aa3e792-fa6c-4fa2-a6fe-1e12221843b6",
   "metadata": {},
   "outputs": [],
   "source": [
    "def evaluate(model, graph, features, labels, mask):\n",
    "    model.eval()\n",
    "    with torch.no_grad():\n",
    "        logits = model(graph, features)\n",
    "        logits = logits[mask]\n",
    "        labels = labels[mask]\n",
    "        loss = F.mse_loss(logits, labels)\n",
    "        return loss"
   ]
  },
  {
   "cell_type": "code",
   "execution_count": 8,
   "id": "fed55f33-1a2d-433d-aa4c-39c00ef3b4af",
   "metadata": {
    "tags": []
   },
   "outputs": [],
   "source": [
    "model = SAGE(in_feats=n_features, hid_feats=20, out_feats=10)\n",
    "\n",
    "opt = torch.optim.Adam(model.parameters(), lr=0.1)\n",
    "scheduler = torch.optim.lr_scheduler.ReduceLROnPlateau(opt, 'min',factor=0.1, patience=10, threshold=0.0001,)\n",
    "\n",
    "train_losses,val_losses = [],[]"
   ]
  },
  {
   "cell_type": "code",
   "execution_count": null,
   "id": "784d015d-4cca-4851-b083-38b34e137f6c",
   "metadata": {
    "tags": []
   },
   "outputs": [],
   "source": [
    "early_stop = 10\n",
    "min_val_loss = 999999\n",
    "min_val_epoch = 0\n",
    "\n",
    "for epoch in range(100):\n",
    "    model.train()\n",
    "    # forward propagation by using all nodes\n",
    "    logits = model(graph, node_features)\n",
    "    # compute loss\n",
    "    train_loss = F.mse_loss(logits[train_mask], node_labels[train_mask])\n",
    "    # backward propagation\n",
    "    opt.zero_grad()\n",
    "    train_loss.backward()\n",
    "    opt.step()\n",
    "    train_losses.append(train_loss.item())\n",
    "    \n",
    "    val_loss = evaluate(model, graph, node_features, node_labels, valid_mask)\n",
    "    val_losses.append(val_loss.item())\n",
    "    \n",
    "    # scheduler.step(val_loss)\n",
    "    \n",
    "    print('#{}, train loss:{:.4f} val loss{:.4f}'.format(epoch,train_loss.item(),val_loss.item()),end='')\n",
    "    \n",
    "    if val_loss.item() < min_val_loss:\n",
    "        min_val_loss = val_loss.item()\n",
    "        min_val_epoch = epoch\n",
    "    else:\n",
    "        print(' no improve...',end='')\n",
    "        \n",
    "    if epoch >= min_val_epoch + early_stop :\n",
    "        print(' early stop...')\n",
    "        break\n",
    "        \n",
    "\n",
    "    print()\n",
    "    # Save model if necessary.  Omitted in this example.\n",
    "    \n",
    "test_loss = evaluate(model, graph, node_features, node_labels, test_mask)\n",
    "print('test loss : {}',test_loss.item())"
   ]
  },
  {
   "cell_type": "code",
   "execution_count": 27,
   "id": "d55e87fc-9bd5-46cb-b8a4-09e17b34426f",
   "metadata": {},
   "outputs": [
    {
     "data": {
      "text/plain": [
       "<matplotlib.legend.Legend at 0x20e3889db88>"
      ]
     },
     "execution_count": 27,
     "metadata": {},
     "output_type": "execute_result"
    },
    {
     "data": {
      "image/png": "[encoded data removed]",
      "text/plain": [
       "<Figure size 432x288 with 1 Axes>"
      ]
     },
     "metadata": {
      "needs_background": "light"
     },
     "output_type": "display_data"
    }
   ],
   "source": [
    "plt.plot(train_losses,label='train')\n",
    "plt.plot(val_losses,label='validation')\n",
    "plt.legend()"
   ]
  },
  {
   "cell_type": "code",
   "execution_count": null,
   "id": "58ded338-d703-4153-91b2-1eed5978488f",
   "metadata": {},
   "outputs": [],
   "source": []
  }
 ],
 "metadata": {
  "kernelspec": {
   "display_name": "Python 3 (ipykernel)",
   "language": "python",
   "name": "python3"
  },
  "language_info": {
   "codemirror_mode": {
    "name": "ipython",
    "version": 3
   },
   "file_extension": ".py",
   "mimetype": "text/x-python",
   "name": "python",
   "nbconvert_exporter": "python",
   "pygments_lexer": "ipython3",
   "version": "3.7.11"
  }
 },
 "nbformat": 4,
 "nbformat_minor": 5
}
