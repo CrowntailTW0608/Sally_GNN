{
 "cells": [
  {
   "cell_type": "code",
   "execution_count": 1,
   "id": "901b9de8-af1d-4aa6-8334-0865904131b1",
   "metadata": {},
   "outputs": [
    {
     "ename": "ModuleNotFoundError",
     "evalue": "No module named 'folium'",
     "output_type": "error",
     "traceback": [
      "\u001b[1;31m---------------------------------------------------------------------------\u001b[0m",
      "\u001b[1;31mModuleNotFoundError\u001b[0m                       Traceback (most recent call last)",
      "\u001b[1;32m~\\AppData\\Local\\Temp/ipykernel_23868/3483899911.py\u001b[0m in \u001b[0;36m<module>\u001b[1;34m\u001b[0m\n\u001b[0;32m      5\u001b[0m \u001b[1;32mimport\u001b[0m \u001b[0mscipy\u001b[0m\u001b[1;33m\u001b[0m\u001b[1;33m\u001b[0m\u001b[0m\n\u001b[0;32m      6\u001b[0m \u001b[1;33m\u001b[0m\u001b[0m\n\u001b[1;32m----> 7\u001b[1;33m \u001b[1;32mimport\u001b[0m \u001b[0mfolium\u001b[0m\u001b[1;33m\u001b[0m\u001b[1;33m\u001b[0m\u001b[0m\n\u001b[0m\u001b[0;32m      8\u001b[0m \u001b[1;32mimport\u001b[0m \u001b[0mmatplotlib\u001b[0m\u001b[1;33m.\u001b[0m\u001b[0mcolors\u001b[0m \u001b[1;32mas\u001b[0m \u001b[0mmcolors\u001b[0m\u001b[1;33m\u001b[0m\u001b[1;33m\u001b[0m\u001b[0m\n",
      "\u001b[1;31mModuleNotFoundError\u001b[0m: No module named 'folium'"
     ]
    }
   ],
   "source": [
    "import matplotlib.pyplot as ply\n",
    "import pandas as pd \n",
    "import numpy as np\n",
    "import os\n",
    "import scipy \n",
    "\n",
    "import folium\n",
    "import matplotlib.colors as mcolors"
   ]
  },
  {
   "cell_type": "code",
   "execution_count": null,
   "id": "18e73b5d-edde-4cc0-a562-96cb3ea92399",
   "metadata": {},
   "outputs": [],
   "source": [
    "df = pd.read_csv(r'./data/df_2021_07.csv',encoding='ansi')"
   ]
  },
  {
   "cell_type": "code",
   "execution_count": null,
   "id": "ea5d1e3a-1b31-41ba-a832-4471f615fae0",
   "metadata": {},
   "outputs": [],
   "source": [
    "df_g = df.groupby(['SiteName','Longitude','Latitude'])['County'].count()\n",
    "use_site = [ele[0] for ele in df_g[df_g==744].index]"
   ]
  },
  {
   "cell_type": "code",
   "execution_count": null,
   "id": "aa377c83-0d2a-475f-ac36-6873b539cc4d",
   "metadata": {},
   "outputs": [],
   "source": [
    "df_city= df.loc[df['SiteName'].isin(use_site),['SiteName','Longitude','Latitude']].drop_duplicates()"
   ]
  },
  {
   "cell_type": "code",
   "execution_count": null,
   "id": "18c9f7b2-c912-43d3-84f0-498665a8da42",
   "metadata": {},
   "outputs": [],
   "source": [
    "latitude = (df_city['Latitude'].max()+df_city['Latitude'].min())/2\n",
    "longitude = (df_city['Longitude'].max()+df_city['Longitude'].min())/2\n",
    "\n",
    "latitudes = list(df_city['Latitude'])\n",
    "longitudes = list(df_city['Longitude'])\n",
    "labels =  list(df_city['SiteName'])"
   ]
  },
  {
   "cell_type": "code",
   "execution_count": null,
   "id": "ac9d862a-1c07-4e19-9df9-99ac8c6445a5",
   "metadata": {},
   "outputs": [],
   "source": [
    "incidents = folium.map.FeatureGroup()\n",
    "colors = [v for k,v in mcolors.CSS4_COLORS.items()]\n",
    "\n",
    "# Loop through the 200 crimes and add each to the incidents feature group\n",
    "san_map = folium.Map(location = [latitude, longitude], zoom_start = 8)\n",
    "\n",
    "\n",
    "for i,( lat, lng) in enumerate(zip(latitudes, longitudes)):\n",
    "\n",
    "    incidents.add_child(\n",
    "        folium.Marker(\n",
    "            [lat, lng],\n",
    "            radius=8, # define how big you want the circle markers to be\n",
    "            color=colors[0],#'#008c8c',\n",
    "            fill=True,\n",
    "            fill_color='#448c8c',\n",
    "            fill_opacity=0.5\n",
    "        )\n",
    "    )\n",
    "\n",
    "san_map.add_child(incidents)\n",
    "san_map"
   ]
  },
  {
   "cell_type": "code",
   "execution_count": null,
   "id": "d74d7427-e6fb-45ef-ade2-41ce91d28681",
   "metadata": {},
   "outputs": [],
   "source": []
  },
  {
   "cell_type": "code",
   "execution_count": null,
   "id": "d66322dd-75d1-45f4-82f0-78c8c206f80c",
   "metadata": {},
   "outputs": [],
   "source": []
  },
  {
   "cell_type": "code",
   "execution_count": null,
   "id": "c71aa9cb-f5f9-4bb1-9102-ef99db6eb245",
   "metadata": {},
   "outputs": [],
   "source": []
  }
 ],
 "metadata": {
  "kernelspec": {
   "display_name": "Python 3 (ipykernel)",
   "language": "python",
   "name": "python3"
  },
  "language_info": {
   "codemirror_mode": {
    "name": "ipython",
    "version": 3
   },
   "file_extension": ".py",
   "mimetype": "text/x-python",
   "name": "python",
   "nbconvert_exporter": "python",
   "pygments_lexer": "ipython3",
   "version": "3.7.11"
  }
 },
 "nbformat": 4,
 "nbformat_minor": 5
}
